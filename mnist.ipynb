{
  "nbformat": 4,
  "nbformat_minor": 0,
  "metadata": {
    "colab": {
      "name": "mnist.ipynb",
      "provenance": [],
      "collapsed_sections": [],
      "include_colab_link": true
    },
    "kernelspec": {
      "name": "python3",
      "display_name": "Python 3"
    },
    "accelerator": "GPU"
  },
  "cells": [
    {
      "cell_type": "markdown",
      "metadata": {
        "id": "view-in-github",
        "colab_type": "text"
      },
      "source": [
        "<a href=\"https://colab.research.google.com/github/g95wang/pre-training/blob/main/mnist.ipynb\" target=\"_parent\"><img src=\"https://colab.research.google.com/assets/colab-badge.svg\" alt=\"Open In Colab\"/></a>"
      ]
    },
    {
      "cell_type": "code",
      "metadata": {
        "id": "7I_gbJ69ndZo"
      },
      "source": [
        "import matplotlib.pyplot as plt\n",
        "import numpy as np\n",
        "import pandas as pd\n",
        "import tensorflow as tf\n",
        "\n",
        "from sklearn.metrics import accuracy_score, precision_score, recall_score\n",
        "from sklearn.model_selection import train_test_split\n",
        "from tensorflow.keras import layers, losses\n",
        "from tensorflow.keras.datasets import fashion_mnist\n",
        "from tensorflow.keras.models import Model\n",
        "\n",
        "tf.compat.v1.enable_eager_execution()"
      ],
      "execution_count": 1,
      "outputs": []
    },
    {
      "cell_type": "code",
      "metadata": {
        "id": "4B3kjp_u5hy4"
      },
      "source": [
        "BATCH_SIZE = 32\n",
        "EPOCHS = 100\n",
        "VALIDATION_SPLIT = 0.2\n",
        "THRESHOLD = 0.95"
      ],
      "execution_count": 2,
      "outputs": []
    },
    {
      "cell_type": "code",
      "metadata": {
        "id": "NJMdrc5N7ji0"
      },
      "source": [
        "def validation_split(x_train, y_train):\n",
        "  mask = np.random.rand(x_train.shape[0]) < VALIDATION_SPLIT\n",
        "  x_validation, y_validation = x_train[mask], y_train[mask]\n",
        "  x_train, y_train = x_train[~mask], y_train[~mask]\n",
        "  return (x_train, y_train), (x_validation, y_validation)"
      ],
      "execution_count": 3,
      "outputs": []
    },
    {
      "cell_type": "code",
      "metadata": {
        "colab": {
          "base_uri": "https://localhost:8080/"
        },
        "id": "ef8q5Qwq5dCJ",
        "outputId": "efcc5e7c-66fd-471a-fecd-38834fb04ef9"
      },
      "source": [
        "(x_train, y_train), (x_test, y_test) = tf.keras.datasets.mnist.load_data()\n",
        "\n",
        "# Rescale the images from [0,255] to the [0.0,1.0] range.\n",
        "x_train, x_test = x_train[..., np.newaxis]/255.0, x_test[..., np.newaxis]/255.0\n",
        "\n",
        "print(\"Number of original training examples:\", len(x_train))\n",
        "print(\"Number of original test examples:\", len(x_test))\n",
        "\n",
        "# Simulate unlabeled dataset\n",
        "labeled_index = np.random.choice(x_train.shape[0], int(x_train.shape[0] * 0.1), replace=False)\n",
        "labeled_mask = np.zeros(len(x_train), dtype=bool)\n",
        "labeled_mask[labeled_index] = 1\n",
        "labeled_x_train, labeled_y_train = x_train[labeled_mask], y_train[labeled_mask]\n",
        "unlabeled_x_train, unlabeled_y_train = x_train[~labeled_mask], y_train[~labeled_mask]\n",
        "\n",
        "print(\"Number of labeled training examples:\", len(labeled_x_train))\n",
        "print(\"Number of unlabeled training examples:\", len(unlabeled_x_train))"
      ],
      "execution_count": 4,
      "outputs": [
        {
          "output_type": "stream",
          "text": [
            "Number of original training examples: 60000\n",
            "Number of original test examples: 10000\n",
            "Number of labeled training examples: 6000\n",
            "Number of unlabeled training examples: 54000\n"
          ],
          "name": "stdout"
        }
      ]
    },
    {
      "cell_type": "code",
      "metadata": {
        "id": "IVxeyZfaqz8d"
      },
      "source": [
        "(pre_x_train, pre_y_train), (pre_x_validation, pre_y_validation) = validation_split(x_train, y_train)\n",
        "(x_train, y_train), (x_validation, y_validation) = validation_split(x_train, y_train)"
      ],
      "execution_count": 5,
      "outputs": []
    },
    {
      "cell_type": "code",
      "metadata": {
        "id": "CjOs7AI8njUr",
        "colab": {
          "base_uri": "https://localhost:8080/"
        },
        "outputId": "83230134-7d3f-43cd-ad11-364a0a302351"
      },
      "source": [
        "class Denoise(Model):\n",
        "  def __init__(self):\n",
        "    super(Denoise, self).__init__()\n",
        "    self.encoder = tf.keras.Sequential([\n",
        "      layers.Input(shape=(28, 28, 1)), \n",
        "      layers.Conv2D(32, (3,3), activation='relu', padding='same', strides=2),\n",
        "      # layers.MaxPooling2D((2, 2)),\n",
        "      layers.Conv2D(32, (3,3), activation='relu', padding='same', strides=2)])\n",
        "      # layers.MaxPooling2D((2, 2))])\n",
        "\n",
        "    self.decoder = tf.keras.Sequential([\n",
        "      # layers.UpSampling2D((2,2)),        \n",
        "      layers.Conv2DTranspose(32, kernel_size=3, strides=2, activation='relu', padding='same'),\n",
        "      # layers.UpSampling2D((2, 2)),        \n",
        "      layers.Conv2DTranspose(32, kernel_size=3, strides=2, activation='relu', padding='same'),\n",
        "      layers.Conv2D(1, kernel_size=(3,3), activation='sigmoid', padding='same')])\n",
        "\n",
        "  def call(self, x):\n",
        "    encoded = self.encoder(x)\n",
        "    decoded = self.decoder(encoded)\n",
        "    return decoded\n",
        "\n",
        "autoencoder = Denoise()\n",
        "\n",
        "autoencoder.compile(optimizer='adam', loss=losses.MeanSquaredError())\n",
        "\n",
        "autoencoder.build((32, 28, 28, 1))\n",
        "autoencoder.encoder.summary()\n",
        "autoencoder.decoder.summary()\n",
        "autoencoder.summary()"
      ],
      "execution_count": 6,
      "outputs": [
        {
          "output_type": "stream",
          "text": [
            "Model: \"sequential\"\n",
            "_________________________________________________________________\n",
            "Layer (type)                 Output Shape              Param #   \n",
            "=================================================================\n",
            "conv2d (Conv2D)              (None, 14, 14, 32)        320       \n",
            "_________________________________________________________________\n",
            "conv2d_1 (Conv2D)            (None, 7, 7, 32)          9248      \n",
            "=================================================================\n",
            "Total params: 9,568\n",
            "Trainable params: 9,568\n",
            "Non-trainable params: 0\n",
            "_________________________________________________________________\n",
            "Model: \"sequential_1\"\n",
            "_________________________________________________________________\n",
            "Layer (type)                 Output Shape              Param #   \n",
            "=================================================================\n",
            "conv2d_transpose (Conv2DTran (32, 14, 14, 32)          9248      \n",
            "_________________________________________________________________\n",
            "conv2d_transpose_1 (Conv2DTr (32, 28, 28, 32)          9248      \n",
            "_________________________________________________________________\n",
            "conv2d_2 (Conv2D)            (32, 28, 28, 1)           289       \n",
            "=================================================================\n",
            "Total params: 18,785\n",
            "Trainable params: 18,785\n",
            "Non-trainable params: 0\n",
            "_________________________________________________________________\n",
            "Model: \"denoise\"\n",
            "_________________________________________________________________\n",
            "Layer (type)                 Output Shape              Param #   \n",
            "=================================================================\n",
            "sequential (Sequential)      (None, 7, 7, 32)          9568      \n",
            "_________________________________________________________________\n",
            "sequential_1 (Sequential)    (32, 28, 28, 1)           18785     \n",
            "=================================================================\n",
            "Total params: 28,353\n",
            "Trainable params: 28,353\n",
            "Non-trainable params: 0\n",
            "_________________________________________________________________\n"
          ],
          "name": "stdout"
        }
      ]
    },
    {
      "cell_type": "code",
      "metadata": {
        "id": "9r4nRFxymnh3",
        "colab": {
          "base_uri": "https://localhost:8080/"
        },
        "outputId": "a7037985-6a97-4a1b-bc25-c8ea83c76073"
      },
      "source": [
        "model = tf.keras.models.Sequential([\n",
        "  layers.Conv2D(32, (3, 3), activation='relu', kernel_regularizer='l2', input_shape=(28, 28, 1)),\n",
        "  # layers.MaxPooling2D((2, 2)),\n",
        "  layers.Conv2D(32, (3, 3), activation='relu', kernel_regularizer='l2'),\n",
        "  layers.MaxPooling2D((2, 2)),\n",
        "  layers.Flatten(),\n",
        "  layers.Dense(32,activation='relu', kernel_regularizer='l2'),\n",
        "  layers.Dense(10,activation='softmax')\n",
        "])\n",
        "\n",
        "model.compile(\n",
        "    optimizer=tf.keras.optimizers.Adam(0.001),\n",
        "    loss=tf.keras.losses.SparseCategoricalCrossentropy(),\n",
        "    metrics=[tf.keras.metrics.SparseCategoricalAccuracy()],\n",
        ")\n",
        "\n",
        "model.summary()\n",
        "\n",
        "model.save_weights(\"./init\")"
      ],
      "execution_count": 7,
      "outputs": [
        {
          "output_type": "stream",
          "text": [
            "Model: \"sequential_2\"\n",
            "_________________________________________________________________\n",
            "Layer (type)                 Output Shape              Param #   \n",
            "=================================================================\n",
            "conv2d_3 (Conv2D)            (None, 26, 26, 32)        320       \n",
            "_________________________________________________________________\n",
            "conv2d_4 (Conv2D)            (None, 24, 24, 32)        9248      \n",
            "_________________________________________________________________\n",
            "max_pooling2d (MaxPooling2D) (None, 12, 12, 32)        0         \n",
            "_________________________________________________________________\n",
            "flatten (Flatten)            (None, 4608)              0         \n",
            "_________________________________________________________________\n",
            "dense (Dense)                (None, 32)                147488    \n",
            "_________________________________________________________________\n",
            "dense_1 (Dense)              (None, 10)                330       \n",
            "=================================================================\n",
            "Total params: 157,386\n",
            "Trainable params: 157,386\n",
            "Non-trainable params: 0\n",
            "_________________________________________________________________\n"
          ],
          "name": "stdout"
        }
      ]
    },
    {
      "cell_type": "code",
      "metadata": {
        "colab": {
          "base_uri": "https://localhost:8080/"
        },
        "id": "247Gnbh_lF33",
        "outputId": "97d15419-a028-4904-f36c-13012b4eb2f1"
      },
      "source": [
        "model_wo_pretrain = tf.keras.models.Sequential([\n",
        "  layers.Conv2D(32, (3, 3), activation='relu', kernel_regularizer='l2', input_shape=(28, 28, 1)),\n",
        "  # layers.MaxPooling2D((2, 2)),\n",
        "  layers.Conv2D(32, (3, 3), activation='relu', kernel_regularizer='l2'),\n",
        "  layers.MaxPooling2D((2, 2)),\n",
        "  layers.Flatten(),\n",
        "  layers.Dense(32,activation='relu', kernel_regularizer='l2'),\n",
        "  layers.Dense(10,activation='softmax')\n",
        "])\n",
        "\n",
        "model_wo_pretrain.compile(\n",
        "    optimizer=tf.keras.optimizers.Adam(0.001),\n",
        "    loss=tf.keras.losses.SparseCategoricalCrossentropy(),\n",
        "    metrics=[tf.keras.metrics.SparseCategoricalAccuracy()],\n",
        ")\n",
        "\n",
        "model_wo_pretrain.summary()\n",
        "\n",
        "model_wo_pretrain.load_weights(\"./init\")"
      ],
      "execution_count": 8,
      "outputs": [
        {
          "output_type": "stream",
          "text": [
            "Model: \"sequential_3\"\n",
            "_________________________________________________________________\n",
            "Layer (type)                 Output Shape              Param #   \n",
            "=================================================================\n",
            "conv2d_5 (Conv2D)            (None, 26, 26, 32)        320       \n",
            "_________________________________________________________________\n",
            "conv2d_6 (Conv2D)            (None, 24, 24, 32)        9248      \n",
            "_________________________________________________________________\n",
            "max_pooling2d_1 (MaxPooling2 (None, 12, 12, 32)        0         \n",
            "_________________________________________________________________\n",
            "flatten_1 (Flatten)          (None, 4608)              0         \n",
            "_________________________________________________________________\n",
            "dense_2 (Dense)              (None, 32)                147488    \n",
            "_________________________________________________________________\n",
            "dense_3 (Dense)              (None, 10)                330       \n",
            "=================================================================\n",
            "Total params: 157,386\n",
            "Trainable params: 157,386\n",
            "Non-trainable params: 0\n",
            "_________________________________________________________________\n"
          ],
          "name": "stdout"
        },
        {
          "output_type": "execute_result",
          "data": {
            "text/plain": [
              "<tensorflow.python.training.tracking.util.CheckpointLoadStatus at 0x7f9ee870e9e8>"
            ]
          },
          "metadata": {
            "tags": []
          },
          "execution_count": 8
        }
      ]
    },
    {
      "cell_type": "code",
      "metadata": {
        "id": "WBaVx5Kh5fj3",
        "colab": {
          "base_uri": "https://localhost:8080/"
        },
        "outputId": "7245717a-1227-49e7-95a8-3a766dbce9da"
      },
      "source": [
        "best_loss = 1000\n",
        "for epoch in range(3):\n",
        "  history = autoencoder.fit(pre_x_train, pre_x_train, validation_data=(pre_x_validation, pre_x_validation))\n",
        "  loss = history.history['val_loss'][0]\n",
        "  if loss < best_loss:\n",
        "    autoencoder.save_weights(\"./checkpoint\")\n",
        "    print(\"Saving checkpoint\")\n",
        "    best_loss = loss\n",
        "autoencoder.load_weights(\"./checkpoint\")\n",
        "supervised_loss = autoencoder.evaluate(x_test, x_test)"
      ],
      "execution_count": 9,
      "outputs": [
        {
          "output_type": "stream",
          "text": [
            "1504/1504 [==============================] - 7s 4ms/step - loss: 0.0276 - val_loss: 9.0861e-04\n",
            "Saving checkpoint\n",
            "1504/1504 [==============================] - 5s 3ms/step - loss: 6.6452e-04 - val_loss: 5.1416e-04\n",
            "Saving checkpoint\n",
            "1504/1504 [==============================] - 5s 3ms/step - loss: 4.3417e-04 - val_loss: 3.7115e-04\n",
            "Saving checkpoint\n",
            "313/313 [==============================] - 1s 2ms/step - loss: 3.7146e-04\n"
          ],
          "name": "stdout"
        }
      ]
    },
    {
      "cell_type": "code",
      "metadata": {
        "id": "qNQ6y8j9-sqG"
      },
      "source": [
        "# sess = tf.compat.v1.Session()\n",
        "weights = model.weights\n",
        "weights[0] = autoencoder.weights[0]\n",
        "weights[1] = autoencoder.weights[1]\n",
        "\n",
        "for i in range(len(weights)):\n",
        "  weights[i] = weights[i].numpy()\n",
        "\n",
        "model.set_weights(weights)"
      ],
      "execution_count": 10,
      "outputs": []
    },
    {
      "cell_type": "code",
      "metadata": {
        "id": "z3L1hrzlkC9h",
        "colab": {
          "base_uri": "https://localhost:8080/"
        },
        "outputId": "1d8e99ac-0b25-444a-8916-1913b8270ad6"
      },
      "source": [
        "best_loss = 1000\n",
        "train_accuracy, train_loss, validation_accuracy, validation_loss = [], [], [], []\n",
        "for epoch in range(EPOCHS):\n",
        "  history = model.fit(x_train, y_train, validation_data=(x_validation, y_validation), steps_per_epoch=100)\n",
        "  train_accuracy.append(history.history['sparse_categorical_accuracy'][0])\n",
        "  train_loss.append(history.history['loss'][0])\n",
        "  validation_accuracy.append(history.history['val_sparse_categorical_accuracy'][0])\n",
        "  validation_loss.append(history.history['val_loss'][0])\n",
        "  loss = history.history['val_loss'][0]\n",
        "  if loss < best_loss:\n",
        "    model.save_weights(\"./checkpoint\")\n",
        "    print(\"Saving checkpoint\")\n",
        "    best_loss = loss\n",
        "model.load_weights(\"./checkpoint\")\n",
        "supervised_loss = model.evaluate(x_test, y_test)"
      ],
      "execution_count": 11,
      "outputs": [
        {
          "output_type": "stream",
          "text": [
            "100/100 [==============================] - 3s 22ms/step - loss: 1.6963 - sparse_categorical_accuracy: 0.6658 - val_loss: 0.5892 - val_sparse_categorical_accuracy: 0.9254\n",
            "Saving checkpoint\n",
            "100/100 [==============================] - 2s 20ms/step - loss: 0.4812 - sparse_categorical_accuracy: 0.9397 - val_loss: 0.4065 - val_sparse_categorical_accuracy: 0.9508\n",
            "Saving checkpoint\n",
            "100/100 [==============================] - 2s 19ms/step - loss: 0.3740 - sparse_categorical_accuracy: 0.9533 - val_loss: 0.3457 - val_sparse_categorical_accuracy: 0.9558\n",
            "Saving checkpoint\n",
            "100/100 [==============================] - 2s 19ms/step - loss: 0.3216 - sparse_categorical_accuracy: 0.9613 - val_loss: 0.3143 - val_sparse_categorical_accuracy: 0.9617\n",
            "Saving checkpoint\n",
            "100/100 [==============================] - 2s 19ms/step - loss: 0.2989 - sparse_categorical_accuracy: 0.9628 - val_loss: 0.2974 - val_sparse_categorical_accuracy: 0.9613\n",
            "Saving checkpoint\n",
            "100/100 [==============================] - 2s 19ms/step - loss: 0.2810 - sparse_categorical_accuracy: 0.9667 - val_loss: 0.2844 - val_sparse_categorical_accuracy: 0.9654\n",
            "Saving checkpoint\n",
            "100/100 [==============================] - 2s 20ms/step - loss: 0.2726 - sparse_categorical_accuracy: 0.9666 - val_loss: 0.2683 - val_sparse_categorical_accuracy: 0.9654\n",
            "Saving checkpoint\n",
            "100/100 [==============================] - 2s 19ms/step - loss: 0.2637 - sparse_categorical_accuracy: 0.9678 - val_loss: 0.2608 - val_sparse_categorical_accuracy: 0.9682\n",
            "Saving checkpoint\n",
            "100/100 [==============================] - 2s 19ms/step - loss: 0.2561 - sparse_categorical_accuracy: 0.9696 - val_loss: 0.2628 - val_sparse_categorical_accuracy: 0.9668\n",
            "100/100 [==============================] - 2s 20ms/step - loss: 0.2562 - sparse_categorical_accuracy: 0.9689 - val_loss: 0.2750 - val_sparse_categorical_accuracy: 0.9649\n",
            "100/100 [==============================] - 2s 19ms/step - loss: 0.2480 - sparse_categorical_accuracy: 0.9710 - val_loss: 0.2570 - val_sparse_categorical_accuracy: 0.9655\n",
            "Saving checkpoint\n",
            "100/100 [==============================] - 2s 19ms/step - loss: 0.2454 - sparse_categorical_accuracy: 0.9704 - val_loss: 0.2540 - val_sparse_categorical_accuracy: 0.9672\n",
            "Saving checkpoint\n",
            "100/100 [==============================] - 2s 19ms/step - loss: 0.2395 - sparse_categorical_accuracy: 0.9718 - val_loss: 0.2491 - val_sparse_categorical_accuracy: 0.9679\n",
            "Saving checkpoint\n",
            "100/100 [==============================] - 2s 19ms/step - loss: 0.2358 - sparse_categorical_accuracy: 0.9722 - val_loss: 0.2440 - val_sparse_categorical_accuracy: 0.9700\n",
            "Saving checkpoint\n",
            "100/100 [==============================] - 2s 19ms/step - loss: 0.2350 - sparse_categorical_accuracy: 0.9717 - val_loss: 0.2455 - val_sparse_categorical_accuracy: 0.9677\n",
            "100/100 [==============================] - 2s 20ms/step - loss: 0.2325 - sparse_categorical_accuracy: 0.9717 - val_loss: 0.2379 - val_sparse_categorical_accuracy: 0.9702\n",
            "Saving checkpoint\n",
            "100/100 [==============================] - 2s 19ms/step - loss: 0.2272 - sparse_categorical_accuracy: 0.9730 - val_loss: 0.2422 - val_sparse_categorical_accuracy: 0.9677\n",
            "100/100 [==============================] - 2s 19ms/step - loss: 0.2251 - sparse_categorical_accuracy: 0.9730 - val_loss: 0.2341 - val_sparse_categorical_accuracy: 0.9699\n",
            "Saving checkpoint\n",
            "100/100 [==============================] - 2s 19ms/step - loss: 0.2253 - sparse_categorical_accuracy: 0.9731 - val_loss: 0.2258 - val_sparse_categorical_accuracy: 0.9743\n",
            "Saving checkpoint\n",
            "100/100 [==============================] - 2s 19ms/step - loss: 0.2222 - sparse_categorical_accuracy: 0.9732 - val_loss: 0.2251 - val_sparse_categorical_accuracy: 0.9733\n",
            "Saving checkpoint\n",
            "100/100 [==============================] - 2s 19ms/step - loss: 0.2205 - sparse_categorical_accuracy: 0.9727 - val_loss: 0.2237 - val_sparse_categorical_accuracy: 0.9724\n",
            "Saving checkpoint\n",
            "100/100 [==============================] - 2s 19ms/step - loss: 0.2183 - sparse_categorical_accuracy: 0.9729 - val_loss: 0.2311 - val_sparse_categorical_accuracy: 0.9678\n",
            "100/100 [==============================] - 2s 19ms/step - loss: 0.2158 - sparse_categorical_accuracy: 0.9736 - val_loss: 0.2121 - val_sparse_categorical_accuracy: 0.9767\n",
            "Saving checkpoint\n",
            "100/100 [==============================] - 2s 20ms/step - loss: 0.2129 - sparse_categorical_accuracy: 0.9743 - val_loss: 0.2275 - val_sparse_categorical_accuracy: 0.9704\n",
            "100/100 [==============================] - 2s 20ms/step - loss: 0.2114 - sparse_categorical_accuracy: 0.9740 - val_loss: 0.2171 - val_sparse_categorical_accuracy: 0.9734\n",
            "100/100 [==============================] - 2s 20ms/step - loss: 0.2101 - sparse_categorical_accuracy: 0.9748 - val_loss: 0.2207 - val_sparse_categorical_accuracy: 0.9718\n",
            "100/100 [==============================] - 2s 20ms/step - loss: 0.2100 - sparse_categorical_accuracy: 0.9737 - val_loss: 0.2161 - val_sparse_categorical_accuracy: 0.9722\n",
            "100/100 [==============================] - 2s 20ms/step - loss: 0.2079 - sparse_categorical_accuracy: 0.9743 - val_loss: 0.2171 - val_sparse_categorical_accuracy: 0.9721\n",
            "100/100 [==============================] - 2s 19ms/step - loss: 0.2048 - sparse_categorical_accuracy: 0.9752 - val_loss: 0.2160 - val_sparse_categorical_accuracy: 0.9709\n",
            "100/100 [==============================] - 2s 20ms/step - loss: 0.2099 - sparse_categorical_accuracy: 0.9731 - val_loss: 0.2107 - val_sparse_categorical_accuracy: 0.9745\n",
            "Saving checkpoint\n",
            "100/100 [==============================] - 2s 19ms/step - loss: 0.2032 - sparse_categorical_accuracy: 0.9750 - val_loss: 0.2113 - val_sparse_categorical_accuracy: 0.9719\n",
            "100/100 [==============================] - 2s 19ms/step - loss: 0.2010 - sparse_categorical_accuracy: 0.9756 - val_loss: 0.2157 - val_sparse_categorical_accuracy: 0.9696\n",
            "100/100 [==============================] - 2s 20ms/step - loss: 0.2034 - sparse_categorical_accuracy: 0.9735 - val_loss: 0.2054 - val_sparse_categorical_accuracy: 0.9740\n",
            "Saving checkpoint\n",
            "100/100 [==============================] - 2s 20ms/step - loss: 0.2006 - sparse_categorical_accuracy: 0.9750 - val_loss: 0.2163 - val_sparse_categorical_accuracy: 0.9700\n",
            "100/100 [==============================] - 2s 19ms/step - loss: 0.1996 - sparse_categorical_accuracy: 0.9743 - val_loss: 0.2045 - val_sparse_categorical_accuracy: 0.9725\n",
            "Saving checkpoint\n",
            "100/100 [==============================] - 2s 19ms/step - loss: 0.1974 - sparse_categorical_accuracy: 0.9748 - val_loss: 0.2026 - val_sparse_categorical_accuracy: 0.9717\n",
            "Saving checkpoint\n",
            "100/100 [==============================] - 2s 19ms/step - loss: 0.1963 - sparse_categorical_accuracy: 0.9750 - val_loss: 0.2129 - val_sparse_categorical_accuracy: 0.9698\n",
            "100/100 [==============================] - 2s 19ms/step - loss: 0.1940 - sparse_categorical_accuracy: 0.9761 - val_loss: 0.2018 - val_sparse_categorical_accuracy: 0.9733\n",
            "Saving checkpoint\n",
            "100/100 [==============================] - 2s 19ms/step - loss: 0.1945 - sparse_categorical_accuracy: 0.9749 - val_loss: 0.2062 - val_sparse_categorical_accuracy: 0.9722\n",
            "100/100 [==============================] - 2s 20ms/step - loss: 0.1916 - sparse_categorical_accuracy: 0.9756 - val_loss: 0.2016 - val_sparse_categorical_accuracy: 0.9732\n",
            "Saving checkpoint\n",
            "100/100 [==============================] - 2s 21ms/step - loss: 0.1940 - sparse_categorical_accuracy: 0.9747 - val_loss: 0.2032 - val_sparse_categorical_accuracy: 0.9712\n",
            "100/100 [==============================] - 2s 19ms/step - loss: 0.1899 - sparse_categorical_accuracy: 0.9756 - val_loss: 0.2015 - val_sparse_categorical_accuracy: 0.9709\n",
            "Saving checkpoint\n",
            "100/100 [==============================] - 2s 19ms/step - loss: 0.1869 - sparse_categorical_accuracy: 0.9765 - val_loss: 0.2070 - val_sparse_categorical_accuracy: 0.9700\n",
            "100/100 [==============================] - 2s 19ms/step - loss: 0.1888 - sparse_categorical_accuracy: 0.9757 - val_loss: 0.2015 - val_sparse_categorical_accuracy: 0.9709\n",
            "100/100 [==============================] - 2s 19ms/step - loss: 0.1872 - sparse_categorical_accuracy: 0.9757 - val_loss: 0.1977 - val_sparse_categorical_accuracy: 0.9734\n",
            "Saving checkpoint\n",
            "100/100 [==============================] - 2s 19ms/step - loss: 0.1853 - sparse_categorical_accuracy: 0.9762 - val_loss: 0.1930 - val_sparse_categorical_accuracy: 0.9745\n",
            "Saving checkpoint\n",
            "100/100 [==============================] - 2s 19ms/step - loss: 0.1839 - sparse_categorical_accuracy: 0.9768 - val_loss: 0.1914 - val_sparse_categorical_accuracy: 0.9745\n",
            "Saving checkpoint\n",
            "100/100 [==============================] - 2s 19ms/step - loss: 0.1822 - sparse_categorical_accuracy: 0.9766 - val_loss: 0.2141 - val_sparse_categorical_accuracy: 0.9668\n",
            "100/100 [==============================] - 2s 19ms/step - loss: 0.1877 - sparse_categorical_accuracy: 0.9745 - val_loss: 0.1954 - val_sparse_categorical_accuracy: 0.9727\n",
            "100/100 [==============================] - 2s 21ms/step - loss: 0.1800 - sparse_categorical_accuracy: 0.9772 - val_loss: 0.1901 - val_sparse_categorical_accuracy: 0.9740\n",
            "Saving checkpoint\n",
            "100/100 [==============================] - 2s 20ms/step - loss: 0.1845 - sparse_categorical_accuracy: 0.9754 - val_loss: 0.1909 - val_sparse_categorical_accuracy: 0.9740\n",
            "100/100 [==============================] - 2s 19ms/step - loss: 0.1825 - sparse_categorical_accuracy: 0.9761 - val_loss: 0.1942 - val_sparse_categorical_accuracy: 0.9727\n",
            "100/100 [==============================] - 2s 19ms/step - loss: 0.1772 - sparse_categorical_accuracy: 0.9776 - val_loss: 0.1906 - val_sparse_categorical_accuracy: 0.9740\n",
            "100/100 [==============================] - 2s 19ms/step - loss: 0.1824 - sparse_categorical_accuracy: 0.9758 - val_loss: 0.1937 - val_sparse_categorical_accuracy: 0.9730\n",
            "100/100 [==============================] - 2s 19ms/step - loss: 0.1815 - sparse_categorical_accuracy: 0.9762 - val_loss: 0.1886 - val_sparse_categorical_accuracy: 0.9738\n",
            "Saving checkpoint\n",
            "100/100 [==============================] - 2s 19ms/step - loss: 0.1801 - sparse_categorical_accuracy: 0.9759 - val_loss: 0.1888 - val_sparse_categorical_accuracy: 0.9745\n",
            "100/100 [==============================] - 2s 19ms/step - loss: 0.1770 - sparse_categorical_accuracy: 0.9770 - val_loss: 0.1853 - val_sparse_categorical_accuracy: 0.9745\n",
            "Saving checkpoint\n",
            "100/100 [==============================] - 2s 19ms/step - loss: 0.1753 - sparse_categorical_accuracy: 0.9771 - val_loss: 0.1916 - val_sparse_categorical_accuracy: 0.9743\n",
            "100/100 [==============================] - 2s 19ms/step - loss: 0.1764 - sparse_categorical_accuracy: 0.9772 - val_loss: 0.1911 - val_sparse_categorical_accuracy: 0.9717\n",
            "100/100 [==============================] - 2s 20ms/step - loss: 0.1798 - sparse_categorical_accuracy: 0.9757 - val_loss: 0.2077 - val_sparse_categorical_accuracy: 0.9678\n",
            "100/100 [==============================] - 2s 20ms/step - loss: 0.1743 - sparse_categorical_accuracy: 0.9781 - val_loss: 0.1878 - val_sparse_categorical_accuracy: 0.9741\n",
            "100/100 [==============================] - 2s 19ms/step - loss: 0.1737 - sparse_categorical_accuracy: 0.9781 - val_loss: 0.1896 - val_sparse_categorical_accuracy: 0.9718\n",
            "100/100 [==============================] - 2s 19ms/step - loss: 0.1716 - sparse_categorical_accuracy: 0.9776 - val_loss: 0.1926 - val_sparse_categorical_accuracy: 0.9705\n",
            "100/100 [==============================] - 2s 19ms/step - loss: 0.1752 - sparse_categorical_accuracy: 0.9769 - val_loss: 0.1952 - val_sparse_categorical_accuracy: 0.9701\n",
            "100/100 [==============================] - 2s 19ms/step - loss: 0.1721 - sparse_categorical_accuracy: 0.9780 - val_loss: 0.1877 - val_sparse_categorical_accuracy: 0.9728\n",
            "100/100 [==============================] - 2s 20ms/step - loss: 0.1709 - sparse_categorical_accuracy: 0.9776 - val_loss: 0.1846 - val_sparse_categorical_accuracy: 0.9740\n",
            "Saving checkpoint\n",
            "100/100 [==============================] - 2s 19ms/step - loss: 0.1700 - sparse_categorical_accuracy: 0.9778 - val_loss: 0.1814 - val_sparse_categorical_accuracy: 0.9741\n",
            "Saving checkpoint\n",
            "100/100 [==============================] - 2s 19ms/step - loss: 0.1708 - sparse_categorical_accuracy: 0.9772 - val_loss: 0.1807 - val_sparse_categorical_accuracy: 0.9744\n",
            "Saving checkpoint\n",
            "100/100 [==============================] - 2s 19ms/step - loss: 0.1709 - sparse_categorical_accuracy: 0.9774 - val_loss: 0.1811 - val_sparse_categorical_accuracy: 0.9749\n",
            "100/100 [==============================] - 2s 20ms/step - loss: 0.1695 - sparse_categorical_accuracy: 0.9776 - val_loss: 0.1871 - val_sparse_categorical_accuracy: 0.9720\n",
            "100/100 [==============================] - 2s 19ms/step - loss: 0.1695 - sparse_categorical_accuracy: 0.9773 - val_loss: 0.1801 - val_sparse_categorical_accuracy: 0.9745\n",
            "Saving checkpoint\n",
            "100/100 [==============================] - 2s 20ms/step - loss: 0.1707 - sparse_categorical_accuracy: 0.9770 - val_loss: 0.1803 - val_sparse_categorical_accuracy: 0.9744\n",
            "100/100 [==============================] - 2s 19ms/step - loss: 0.1680 - sparse_categorical_accuracy: 0.9784 - val_loss: 0.1731 - val_sparse_categorical_accuracy: 0.9762\n",
            "Saving checkpoint\n",
            "100/100 [==============================] - 2s 20ms/step - loss: 0.1654 - sparse_categorical_accuracy: 0.9782 - val_loss: 0.1832 - val_sparse_categorical_accuracy: 0.9720\n",
            "100/100 [==============================] - 2s 19ms/step - loss: 0.1659 - sparse_categorical_accuracy: 0.9780 - val_loss: 0.1757 - val_sparse_categorical_accuracy: 0.9757\n",
            "100/100 [==============================] - 2s 20ms/step - loss: 0.1656 - sparse_categorical_accuracy: 0.9782 - val_loss: 0.1748 - val_sparse_categorical_accuracy: 0.9763\n",
            "100/100 [==============================] - 2s 19ms/step - loss: 0.1635 - sparse_categorical_accuracy: 0.9787 - val_loss: 0.1801 - val_sparse_categorical_accuracy: 0.9723\n",
            "100/100 [==============================] - 2s 20ms/step - loss: 0.1670 - sparse_categorical_accuracy: 0.9767 - val_loss: 0.1839 - val_sparse_categorical_accuracy: 0.9726\n",
            "100/100 [==============================] - 2s 19ms/step - loss: 0.1651 - sparse_categorical_accuracy: 0.9785 - val_loss: 0.1723 - val_sparse_categorical_accuracy: 0.9765\n",
            "Saving checkpoint\n",
            "100/100 [==============================] - 2s 19ms/step - loss: 0.1636 - sparse_categorical_accuracy: 0.9780 - val_loss: 0.1780 - val_sparse_categorical_accuracy: 0.9735\n",
            "100/100 [==============================] - 2s 20ms/step - loss: 0.1642 - sparse_categorical_accuracy: 0.9783 - val_loss: 0.1793 - val_sparse_categorical_accuracy: 0.9739\n",
            "100/100 [==============================] - 2s 19ms/step - loss: 0.1621 - sparse_categorical_accuracy: 0.9784 - val_loss: 0.1769 - val_sparse_categorical_accuracy: 0.9734\n",
            "100/100 [==============================] - 2s 19ms/step - loss: 0.1619 - sparse_categorical_accuracy: 0.9788 - val_loss: 0.1791 - val_sparse_categorical_accuracy: 0.9725\n",
            "100/100 [==============================] - 2s 19ms/step - loss: 0.1617 - sparse_categorical_accuracy: 0.9788 - val_loss: 0.1735 - val_sparse_categorical_accuracy: 0.9744\n",
            "100/100 [==============================] - 2s 19ms/step - loss: 0.1613 - sparse_categorical_accuracy: 0.9785 - val_loss: 0.1777 - val_sparse_categorical_accuracy: 0.9730\n",
            "100/100 [==============================] - 2s 19ms/step - loss: 0.1618 - sparse_categorical_accuracy: 0.9781 - val_loss: 0.1770 - val_sparse_categorical_accuracy: 0.9740\n",
            "100/100 [==============================] - 2s 19ms/step - loss: 0.1638 - sparse_categorical_accuracy: 0.9775 - val_loss: 0.1818 - val_sparse_categorical_accuracy: 0.9730\n",
            "100/100 [==============================] - 2s 19ms/step - loss: 0.1606 - sparse_categorical_accuracy: 0.9789 - val_loss: 0.1737 - val_sparse_categorical_accuracy: 0.9754\n",
            "100/100 [==============================] - 2s 19ms/step - loss: 0.1600 - sparse_categorical_accuracy: 0.9787 - val_loss: 0.1743 - val_sparse_categorical_accuracy: 0.9745\n",
            "100/100 [==============================] - 2s 19ms/step - loss: 0.1611 - sparse_categorical_accuracy: 0.9783 - val_loss: 0.1808 - val_sparse_categorical_accuracy: 0.9735\n",
            "100/100 [==============================] - 2s 19ms/step - loss: 0.1594 - sparse_categorical_accuracy: 0.9785 - val_loss: 0.1742 - val_sparse_categorical_accuracy: 0.9750\n",
            "100/100 [==============================] - 2s 19ms/step - loss: 0.1586 - sparse_categorical_accuracy: 0.9788 - val_loss: 0.1759 - val_sparse_categorical_accuracy: 0.9740\n",
            "100/100 [==============================] - 2s 19ms/step - loss: 0.1565 - sparse_categorical_accuracy: 0.9801 - val_loss: 0.1830 - val_sparse_categorical_accuracy: 0.9719\n",
            "100/100 [==============================] - 2s 19ms/step - loss: 0.1605 - sparse_categorical_accuracy: 0.9783 - val_loss: 0.1724 - val_sparse_categorical_accuracy: 0.9738\n",
            "100/100 [==============================] - 2s 19ms/step - loss: 0.1576 - sparse_categorical_accuracy: 0.9794 - val_loss: 0.1855 - val_sparse_categorical_accuracy: 0.9694\n",
            "100/100 [==============================] - 2s 19ms/step - loss: 0.1580 - sparse_categorical_accuracy: 0.9785 - val_loss: 0.1708 - val_sparse_categorical_accuracy: 0.9745\n",
            "Saving checkpoint\n",
            "100/100 [==============================] - 2s 20ms/step - loss: 0.1561 - sparse_categorical_accuracy: 0.9797 - val_loss: 0.1687 - val_sparse_categorical_accuracy: 0.9755\n",
            "Saving checkpoint\n",
            "100/100 [==============================] - 2s 19ms/step - loss: 0.1574 - sparse_categorical_accuracy: 0.9793 - val_loss: 0.1648 - val_sparse_categorical_accuracy: 0.9766\n",
            "Saving checkpoint\n",
            "100/100 [==============================] - 2s 19ms/step - loss: 0.1538 - sparse_categorical_accuracy: 0.9800 - val_loss: 0.1675 - val_sparse_categorical_accuracy: 0.9740\n",
            "100/100 [==============================] - 2s 19ms/step - loss: 0.1567 - sparse_categorical_accuracy: 0.9788 - val_loss: 0.1755 - val_sparse_categorical_accuracy: 0.9719\n",
            "313/313 [==============================] - 1s 2ms/step - loss: 0.1537 - sparse_categorical_accuracy: 0.9811\n"
          ],
          "name": "stdout"
        }
      ]
    },
    {
      "cell_type": "code",
      "metadata": {
        "id": "0yjPCeI0oAbK",
        "colab": {
          "base_uri": "https://localhost:8080/",
          "height": 590
        },
        "outputId": "485deb90-f6c9-41d9-9f95-8409726ed6da"
      },
      "source": [
        "# Plot accuracy\n",
        "plt.plot(train_accuracy)\n",
        "plt.plot(validation_accuracy)\n",
        "plt.title('training accuracy')\n",
        "plt.ylabel('training accuracy')\n",
        "plt.xlabel('epoch')\n",
        "plt.legend(['train', \"validation\"], loc='upper left')\n",
        "plt.show()\n",
        "\n",
        "# Plot loss\n",
        "plt.plot(train_loss)\n",
        "plt.plot(validation_loss)\n",
        "plt.title('training loss')\n",
        "plt.ylabel('training loss')\n",
        "plt.xlabel('epoch')\n",
        "plt.legend(['train', \"validation\"], loc='upper left')\n",
        "plt.show()\n",
        "\n",
        "print(supervised_loss)"
      ],
      "execution_count": 12,
      "outputs": [
        {
          "output_type": "display_data",
          "data": {
            "image/png": "[encoded data removed]",
            "text/plain": [
              "<Figure size 432x288 with 1 Axes>"
            ]
          },
          "metadata": {
            "tags": [],
            "needs_background": "light"
          }
        },
        {
          "output_type": "display_data",
          "data": {
            "image/png": "[encoded data removed]",
            "text/plain": [
              "<Figure size 432x288 with 1 Axes>"
            ]
          },
          "metadata": {
            "tags": [],
            "needs_background": "light"
          }
        },
        {
          "output_type": "stream",
          "text": [
            "[0.1537356674671173, 0.9811000227928162]\n"
          ],
          "name": "stdout"
        }
      ]
    },
    {
      "cell_type": "code",
      "metadata": {
        "id": "TnKvJOi_puu4",
        "colab": {
          "base_uri": "https://localhost:8080/"
        },
        "outputId": "98bdc2c9-7c1d-4e07-b8ef-7a749786f3b9"
      },
      "source": [
        "best_loss = 1000\n",
        "train_accuracy_wo_pretrain, train_loss_wo_pretrain, validation_accuracy_wo_pretrain, validation_loss_wo_pretrain = [], [], [], []\n",
        "for epoch in range(EPOCHS):\n",
        "  history = model_wo_pretrain.fit(x_train, y_train, validation_data=(x_validation, y_validation), steps_per_epoch=10)\n",
        "  train_accuracy_wo_pretrain.append(history.history['sparse_categorical_accuracy'][0])\n",
        "  train_loss_wo_pretrain.append(history.history['loss'][0])\n",
        "  validation_accuracy_wo_pretrain.append(history.history['val_sparse_categorical_accuracy'][0])\n",
        "  validation_loss_wo_pretrain.append(history.history['val_loss'][0])\n",
        "  loss = history.history['val_loss'][0]\n",
        "  if loss < best_loss:\n",
        "    model_wo_pretrain.save_weights(\"./checkpoint\")\n",
        "    print(\"Saving checkpoint\")\n",
        "    best_loss = loss\n",
        "model_wo_pretrain.load_weights(\"./checkpoint\")\n",
        "supervised_loss_wo_pretrain = model_wo_pretrain.evaluate(x_test, y_test)"
      ],
      "execution_count": 13,
      "outputs": [
        {
          "output_type": "stream",
          "text": [
            "10/10 [==============================] - 4s 280ms/step - loss: 3.0383 - sparse_categorical_accuracy: 0.2248 - val_loss: 2.1006 - val_sparse_categorical_accuracy: 0.6134\n",
            "Saving checkpoint\n",
            "10/10 [==============================] - 2s 183ms/step - loss: 1.5544 - sparse_categorical_accuracy: 0.7555 - val_loss: 1.1106 - val_sparse_categorical_accuracy: 0.8319\n",
            "Saving checkpoint\n",
            "10/10 [==============================] - 2s 182ms/step - loss: 0.9840 - sparse_categorical_accuracy: 0.8660 - val_loss: 0.8812 - val_sparse_categorical_accuracy: 0.8869\n",
            "Saving checkpoint\n",
            "10/10 [==============================] - 2s 185ms/step - loss: 0.8108 - sparse_categorical_accuracy: 0.8988 - val_loss: 0.7516 - val_sparse_categorical_accuracy: 0.9013\n",
            "Saving checkpoint\n",
            "10/10 [==============================] - 2s 192ms/step - loss: 0.6989 - sparse_categorical_accuracy: 0.9124 - val_loss: 0.6545 - val_sparse_categorical_accuracy: 0.9136\n",
            "Saving checkpoint\n",
            "10/10 [==============================] - 2s 186ms/step - loss: 0.6185 - sparse_categorical_accuracy: 0.9187 - val_loss: 0.5849 - val_sparse_categorical_accuracy: 0.9231\n",
            "Saving checkpoint\n",
            "10/10 [==============================] - 2s 184ms/step - loss: 0.5613 - sparse_categorical_accuracy: 0.9232 - val_loss: 0.5390 - val_sparse_categorical_accuracy: 0.9255\n",
            "Saving checkpoint\n",
            "10/10 [==============================] - 2s 184ms/step - loss: 0.5139 - sparse_categorical_accuracy: 0.9286 - val_loss: 0.4992 - val_sparse_categorical_accuracy: 0.9292\n",
            "Saving checkpoint\n",
            "10/10 [==============================] - 2s 190ms/step - loss: 0.4797 - sparse_categorical_accuracy: 0.9322 - val_loss: 0.4627 - val_sparse_categorical_accuracy: 0.9346\n",
            "Saving checkpoint\n",
            "10/10 [==============================] - 2s 199ms/step - loss: 0.4495 - sparse_categorical_accuracy: 0.9352 - val_loss: 0.4376 - val_sparse_categorical_accuracy: 0.9382\n",
            "Saving checkpoint\n",
            "10/10 [==============================] - 2s 184ms/step - loss: 0.4263 - sparse_categorical_accuracy: 0.9380 - val_loss: 0.4258 - val_sparse_categorical_accuracy: 0.9390\n",
            "Saving checkpoint\n",
            "10/10 [==============================] - 2s 184ms/step - loss: 0.4049 - sparse_categorical_accuracy: 0.9422 - val_loss: 0.4007 - val_sparse_categorical_accuracy: 0.9426\n",
            "Saving checkpoint\n",
            "10/10 [==============================] - 2s 185ms/step - loss: 0.3848 - sparse_categorical_accuracy: 0.9466 - val_loss: 0.3808 - val_sparse_categorical_accuracy: 0.9480\n",
            "Saving checkpoint\n",
            "10/10 [==============================] - 2s 190ms/step - loss: 0.3662 - sparse_categorical_accuracy: 0.9496 - val_loss: 0.3624 - val_sparse_categorical_accuracy: 0.9493\n",
            "Saving checkpoint\n",
            "10/10 [==============================] - 2s 188ms/step - loss: 0.3509 - sparse_categorical_accuracy: 0.9523 - val_loss: 0.3558 - val_sparse_categorical_accuracy: 0.9509\n",
            "Saving checkpoint\n",
            "10/10 [==============================] - 2s 184ms/step - loss: 0.3393 - sparse_categorical_accuracy: 0.9537 - val_loss: 0.3563 - val_sparse_categorical_accuracy: 0.9452\n",
            "10/10 [==============================] - 2s 184ms/step - loss: 0.3324 - sparse_categorical_accuracy: 0.9538 - val_loss: 0.3317 - val_sparse_categorical_accuracy: 0.9550\n",
            "Saving checkpoint\n",
            "10/10 [==============================] - 2s 187ms/step - loss: 0.3225 - sparse_categorical_accuracy: 0.9562 - val_loss: 0.3241 - val_sparse_categorical_accuracy: 0.9535\n",
            "Saving checkpoint\n",
            "10/10 [==============================] - 2s 186ms/step - loss: 0.3116 - sparse_categorical_accuracy: 0.9586 - val_loss: 0.3133 - val_sparse_categorical_accuracy: 0.9580\n",
            "Saving checkpoint\n",
            "10/10 [==============================] - 2s 184ms/step - loss: 0.3025 - sparse_categorical_accuracy: 0.9604 - val_loss: 0.3071 - val_sparse_categorical_accuracy: 0.9580\n",
            "Saving checkpoint\n",
            "10/10 [==============================] - 2s 184ms/step - loss: 0.2971 - sparse_categorical_accuracy: 0.9611 - val_loss: 0.3030 - val_sparse_categorical_accuracy: 0.9571\n",
            "Saving checkpoint\n",
            "10/10 [==============================] - 2s 188ms/step - loss: 0.2912 - sparse_categorical_accuracy: 0.9628 - val_loss: 0.3044 - val_sparse_categorical_accuracy: 0.9586\n",
            "10/10 [==============================] - 2s 190ms/step - loss: 0.2942 - sparse_categorical_accuracy: 0.9602 - val_loss: 0.2997 - val_sparse_categorical_accuracy: 0.9586\n",
            "Saving checkpoint\n",
            "10/10 [==============================] - 2s 184ms/step - loss: 0.2854 - sparse_categorical_accuracy: 0.9629 - val_loss: 0.2875 - val_sparse_categorical_accuracy: 0.9615\n",
            "Saving checkpoint\n",
            "10/10 [==============================] - 2s 184ms/step - loss: 0.2767 - sparse_categorical_accuracy: 0.9644 - val_loss: 0.2912 - val_sparse_categorical_accuracy: 0.9594\n",
            "10/10 [==============================] - 2s 190ms/step - loss: 0.2753 - sparse_categorical_accuracy: 0.9646 - val_loss: 0.2815 - val_sparse_categorical_accuracy: 0.9621\n",
            "Saving checkpoint\n",
            "10/10 [==============================] - 2s 197ms/step - loss: 0.2720 - sparse_categorical_accuracy: 0.9648 - val_loss: 0.2782 - val_sparse_categorical_accuracy: 0.9618\n",
            "Saving checkpoint\n",
            "10/10 [==============================] - 2s 185ms/step - loss: 0.2656 - sparse_categorical_accuracy: 0.9671 - val_loss: 0.2715 - val_sparse_categorical_accuracy: 0.9651\n",
            "Saving checkpoint\n",
            "10/10 [==============================] - 2s 184ms/step - loss: 0.2608 - sparse_categorical_accuracy: 0.9674 - val_loss: 0.2687 - val_sparse_categorical_accuracy: 0.9645\n",
            "Saving checkpoint\n",
            "10/10 [==============================] - 2s 186ms/step - loss: 0.2565 - sparse_categorical_accuracy: 0.9680 - val_loss: 0.2700 - val_sparse_categorical_accuracy: 0.9642\n",
            "10/10 [==============================] - 2s 186ms/step - loss: 0.2550 - sparse_categorical_accuracy: 0.9679 - val_loss: 0.2634 - val_sparse_categorical_accuracy: 0.9646\n",
            "Saving checkpoint\n",
            "10/10 [==============================] - 2s 184ms/step - loss: 0.2501 - sparse_categorical_accuracy: 0.9696 - val_loss: 0.2645 - val_sparse_categorical_accuracy: 0.9647\n",
            "10/10 [==============================] - 2s 184ms/step - loss: 0.2496 - sparse_categorical_accuracy: 0.9691 - val_loss: 0.2591 - val_sparse_categorical_accuracy: 0.9661\n",
            "Saving checkpoint\n",
            "10/10 [==============================] - 2s 184ms/step - loss: 0.2497 - sparse_categorical_accuracy: 0.9693 - val_loss: 0.2636 - val_sparse_categorical_accuracy: 0.9654\n",
            "10/10 [==============================] - 2s 184ms/step - loss: 0.2461 - sparse_categorical_accuracy: 0.9700 - val_loss: 0.2525 - val_sparse_categorical_accuracy: 0.9673\n",
            "Saving checkpoint\n",
            "10/10 [==============================] - 2s 184ms/step - loss: 0.2405 - sparse_categorical_accuracy: 0.9718 - val_loss: 0.2523 - val_sparse_categorical_accuracy: 0.9688\n",
            "Saving checkpoint\n",
            "10/10 [==============================] - 2s 185ms/step - loss: 0.2400 - sparse_categorical_accuracy: 0.9720 - val_loss: 0.2526 - val_sparse_categorical_accuracy: 0.9659\n",
            "10/10 [==============================] - 2s 183ms/step - loss: 0.2403 - sparse_categorical_accuracy: 0.9712 - val_loss: 0.2498 - val_sparse_categorical_accuracy: 0.9693\n",
            "Saving checkpoint\n",
            "10/10 [==============================] - 2s 185ms/step - loss: 0.2436 - sparse_categorical_accuracy: 0.9704 - val_loss: 0.2544 - val_sparse_categorical_accuracy: 0.9651\n",
            "10/10 [==============================] - 2s 186ms/step - loss: 0.2423 - sparse_categorical_accuracy: 0.9699 - val_loss: 0.2520 - val_sparse_categorical_accuracy: 0.9678\n",
            "10/10 [==============================] - 2s 194ms/step - loss: 0.2399 - sparse_categorical_accuracy: 0.9703 - val_loss: 0.2438 - val_sparse_categorical_accuracy: 0.9693\n",
            "Saving checkpoint\n",
            "10/10 [==============================] - 2s 183ms/step - loss: 0.2336 - sparse_categorical_accuracy: 0.9728 - val_loss: 0.2448 - val_sparse_categorical_accuracy: 0.9678\n",
            "10/10 [==============================] - 2s 199ms/step - loss: 0.2336 - sparse_categorical_accuracy: 0.9726 - val_loss: 0.2422 - val_sparse_categorical_accuracy: 0.9695\n",
            "Saving checkpoint\n",
            "10/10 [==============================] - 2s 183ms/step - loss: 0.2334 - sparse_categorical_accuracy: 0.9720 - val_loss: 0.2425 - val_sparse_categorical_accuracy: 0.9694\n",
            "10/10 [==============================] - 2s 183ms/step - loss: 0.2318 - sparse_categorical_accuracy: 0.9731 - val_loss: 0.2447 - val_sparse_categorical_accuracy: 0.9693\n",
            "10/10 [==============================] - 2s 182ms/step - loss: 0.2304 - sparse_categorical_accuracy: 0.9724 - val_loss: 0.2374 - val_sparse_categorical_accuracy: 0.9695\n",
            "Saving checkpoint\n",
            "10/10 [==============================] - 2s 185ms/step - loss: 0.2263 - sparse_categorical_accuracy: 0.9742 - val_loss: 0.2404 - val_sparse_categorical_accuracy: 0.9693\n",
            "10/10 [==============================] - 2s 188ms/step - loss: 0.2265 - sparse_categorical_accuracy: 0.9741 - val_loss: 0.2427 - val_sparse_categorical_accuracy: 0.9687\n",
            "10/10 [==============================] - 2s 189ms/step - loss: 0.2257 - sparse_categorical_accuracy: 0.9741 - val_loss: 0.2374 - val_sparse_categorical_accuracy: 0.9699\n",
            "10/10 [==============================] - 2s 194ms/step - loss: 0.2278 - sparse_categorical_accuracy: 0.9732 - val_loss: 0.2372 - val_sparse_categorical_accuracy: 0.9688\n",
            "Saving checkpoint\n",
            "10/10 [==============================] - 2s 182ms/step - loss: 0.2233 - sparse_categorical_accuracy: 0.9743 - val_loss: 0.2332 - val_sparse_categorical_accuracy: 0.9709\n",
            "Saving checkpoint\n",
            "10/10 [==============================] - 2s 185ms/step - loss: 0.2207 - sparse_categorical_accuracy: 0.9754 - val_loss: 0.2322 - val_sparse_categorical_accuracy: 0.9714\n",
            "Saving checkpoint\n",
            "10/10 [==============================] - 2s 186ms/step - loss: 0.2227 - sparse_categorical_accuracy: 0.9745 - val_loss: 0.2470 - val_sparse_categorical_accuracy: 0.9662\n",
            "10/10 [==============================] - 2s 183ms/step - loss: 0.2288 - sparse_categorical_accuracy: 0.9718 - val_loss: 0.2431 - val_sparse_categorical_accuracy: 0.9677\n",
            "10/10 [==============================] - 2s 188ms/step - loss: 0.2286 - sparse_categorical_accuracy: 0.9723 - val_loss: 0.2368 - val_sparse_categorical_accuracy: 0.9701\n",
            "10/10 [==============================] - 2s 186ms/step - loss: 0.2210 - sparse_categorical_accuracy: 0.9746 - val_loss: 0.2297 - val_sparse_categorical_accuracy: 0.9706\n",
            "Saving checkpoint\n",
            "10/10 [==============================] - 2s 181ms/step - loss: 0.2189 - sparse_categorical_accuracy: 0.9756 - val_loss: 0.2338 - val_sparse_categorical_accuracy: 0.9710\n",
            "10/10 [==============================] - 2s 184ms/step - loss: 0.2205 - sparse_categorical_accuracy: 0.9741 - val_loss: 0.2408 - val_sparse_categorical_accuracy: 0.9683\n",
            "10/10 [==============================] - 2s 184ms/step - loss: 0.2206 - sparse_categorical_accuracy: 0.9747 - val_loss: 0.2350 - val_sparse_categorical_accuracy: 0.9704\n",
            "10/10 [==============================] - 2s 198ms/step - loss: 0.2243 - sparse_categorical_accuracy: 0.9731 - val_loss: 0.2532 - val_sparse_categorical_accuracy: 0.9632\n",
            "10/10 [==============================] - 2s 188ms/step - loss: 0.2281 - sparse_categorical_accuracy: 0.9715 - val_loss: 0.2306 - val_sparse_categorical_accuracy: 0.9710\n",
            "10/10 [==============================] - 2s 191ms/step - loss: 0.2193 - sparse_categorical_accuracy: 0.9751 - val_loss: 0.2279 - val_sparse_categorical_accuracy: 0.9727\n",
            "Saving checkpoint\n",
            "10/10 [==============================] - 2s 189ms/step - loss: 0.2159 - sparse_categorical_accuracy: 0.9765 - val_loss: 0.2315 - val_sparse_categorical_accuracy: 0.9706\n",
            "10/10 [==============================] - 2s 189ms/step - loss: 0.2156 - sparse_categorical_accuracy: 0.9754 - val_loss: 0.2353 - val_sparse_categorical_accuracy: 0.9696\n",
            "10/10 [==============================] - 2s 185ms/step - loss: 0.2158 - sparse_categorical_accuracy: 0.9757 - val_loss: 0.2276 - val_sparse_categorical_accuracy: 0.9718\n",
            "Saving checkpoint\n",
            "10/10 [==============================] - 2s 183ms/step - loss: 0.2145 - sparse_categorical_accuracy: 0.9762 - val_loss: 0.2282 - val_sparse_categorical_accuracy: 0.9710\n",
            "10/10 [==============================] - 2s 184ms/step - loss: 0.2138 - sparse_categorical_accuracy: 0.9761 - val_loss: 0.2289 - val_sparse_categorical_accuracy: 0.9696\n",
            "10/10 [==============================] - 2s 186ms/step - loss: 0.2150 - sparse_categorical_accuracy: 0.9752 - val_loss: 0.2240 - val_sparse_categorical_accuracy: 0.9725\n",
            "Saving checkpoint\n",
            "10/10 [==============================] - 2s 186ms/step - loss: 0.2113 - sparse_categorical_accuracy: 0.9765 - val_loss: 0.2210 - val_sparse_categorical_accuracy: 0.9731\n",
            "Saving checkpoint\n",
            "10/10 [==============================] - 2s 184ms/step - loss: 0.2108 - sparse_categorical_accuracy: 0.9763 - val_loss: 0.2230 - val_sparse_categorical_accuracy: 0.9738\n",
            "10/10 [==============================] - 2s 187ms/step - loss: 0.2084 - sparse_categorical_accuracy: 0.9776 - val_loss: 0.2221 - val_sparse_categorical_accuracy: 0.9724\n",
            "10/10 [==============================] - 2s 185ms/step - loss: 0.2101 - sparse_categorical_accuracy: 0.9770 - val_loss: 0.2242 - val_sparse_categorical_accuracy: 0.9717\n",
            "10/10 [==============================] - 2s 196ms/step - loss: 0.2083 - sparse_categorical_accuracy: 0.9773 - val_loss: 0.2240 - val_sparse_categorical_accuracy: 0.9705\n",
            "10/10 [==============================] - 2s 183ms/step - loss: 0.2081 - sparse_categorical_accuracy: 0.9773 - val_loss: 0.2227 - val_sparse_categorical_accuracy: 0.9717\n",
            "10/10 [==============================] - 2s 183ms/step - loss: 0.2070 - sparse_categorical_accuracy: 0.9777 - val_loss: 0.2192 - val_sparse_categorical_accuracy: 0.9738\n",
            "Saving checkpoint\n",
            "10/10 [==============================] - 2s 183ms/step - loss: 0.2069 - sparse_categorical_accuracy: 0.9770 - val_loss: 0.2213 - val_sparse_categorical_accuracy: 0.9713\n",
            "10/10 [==============================] - 2s 186ms/step - loss: 0.2084 - sparse_categorical_accuracy: 0.9766 - val_loss: 0.2214 - val_sparse_categorical_accuracy: 0.9717\n",
            "10/10 [==============================] - 2s 187ms/step - loss: 0.2088 - sparse_categorical_accuracy: 0.9764 - val_loss: 0.2200 - val_sparse_categorical_accuracy: 0.9723\n",
            "10/10 [==============================] - 2s 190ms/step - loss: 0.2095 - sparse_categorical_accuracy: 0.9764 - val_loss: 0.2209 - val_sparse_categorical_accuracy: 0.9721\n",
            "10/10 [==============================] - 2s 184ms/step - loss: 0.2060 - sparse_categorical_accuracy: 0.9784 - val_loss: 0.2165 - val_sparse_categorical_accuracy: 0.9733\n",
            "Saving checkpoint\n",
            "10/10 [==============================] - 2s 184ms/step - loss: 0.2052 - sparse_categorical_accuracy: 0.9774 - val_loss: 0.2224 - val_sparse_categorical_accuracy: 0.9719\n",
            "10/10 [==============================] - 2s 186ms/step - loss: 0.2095 - sparse_categorical_accuracy: 0.9765 - val_loss: 0.2236 - val_sparse_categorical_accuracy: 0.9704\n",
            "10/10 [==============================] - 2s 189ms/step - loss: 0.2056 - sparse_categorical_accuracy: 0.9782 - val_loss: 0.2199 - val_sparse_categorical_accuracy: 0.9732\n",
            "10/10 [==============================] - 2s 188ms/step - loss: 0.2057 - sparse_categorical_accuracy: 0.9769 - val_loss: 0.2171 - val_sparse_categorical_accuracy: 0.9725\n",
            "10/10 [==============================] - 2s 189ms/step - loss: 0.2059 - sparse_categorical_accuracy: 0.9771 - val_loss: 0.2191 - val_sparse_categorical_accuracy: 0.9733\n",
            "10/10 [==============================] - 2s 190ms/step - loss: 0.2041 - sparse_categorical_accuracy: 0.9774 - val_loss: 0.2209 - val_sparse_categorical_accuracy: 0.9718\n",
            "10/10 [==============================] - 2s 192ms/step - loss: 0.2025 - sparse_categorical_accuracy: 0.9785 - val_loss: 0.2183 - val_sparse_categorical_accuracy: 0.9730\n",
            "10/10 [==============================] - 2s 184ms/step - loss: 0.2019 - sparse_categorical_accuracy: 0.9780 - val_loss: 0.2150 - val_sparse_categorical_accuracy: 0.9731\n",
            "Saving checkpoint\n",
            "10/10 [==============================] - 2s 185ms/step - loss: 0.2018 - sparse_categorical_accuracy: 0.9779 - val_loss: 0.2146 - val_sparse_categorical_accuracy: 0.9735\n",
            "Saving checkpoint\n",
            "10/10 [==============================] - 2s 193ms/step - loss: 0.2047 - sparse_categorical_accuracy: 0.9773 - val_loss: 0.2181 - val_sparse_categorical_accuracy: 0.9736\n",
            "10/10 [==============================] - 2s 182ms/step - loss: 0.2028 - sparse_categorical_accuracy: 0.9780 - val_loss: 0.2143 - val_sparse_categorical_accuracy: 0.9738\n",
            "Saving checkpoint\n",
            "10/10 [==============================] - 2s 196ms/step - loss: 0.2019 - sparse_categorical_accuracy: 0.9785 - val_loss: 0.2200 - val_sparse_categorical_accuracy: 0.9713\n",
            "10/10 [==============================] - 2s 183ms/step - loss: 0.2045 - sparse_categorical_accuracy: 0.9775 - val_loss: 0.2149 - val_sparse_categorical_accuracy: 0.9729\n",
            "10/10 [==============================] - 2s 189ms/step - loss: 0.2031 - sparse_categorical_accuracy: 0.9772 - val_loss: 0.2159 - val_sparse_categorical_accuracy: 0.9717\n",
            "10/10 [==============================] - 2s 193ms/step - loss: 0.2011 - sparse_categorical_accuracy: 0.9781 - val_loss: 0.2141 - val_sparse_categorical_accuracy: 0.9732\n",
            "Saving checkpoint\n",
            "10/10 [==============================] - 2s 189ms/step - loss: 0.2010 - sparse_categorical_accuracy: 0.9773 - val_loss: 0.2181 - val_sparse_categorical_accuracy: 0.9720\n",
            "10/10 [==============================] - 2s 186ms/step - loss: 0.2046 - sparse_categorical_accuracy: 0.9767 - val_loss: 0.2135 - val_sparse_categorical_accuracy: 0.9742\n",
            "Saving checkpoint\n",
            "10/10 [==============================] - 2s 185ms/step - loss: 0.2036 - sparse_categorical_accuracy: 0.9772 - val_loss: 0.2126 - val_sparse_categorical_accuracy: 0.9730\n",
            "Saving checkpoint\n",
            "10/10 [==============================] - 2s 185ms/step - loss: 0.2005 - sparse_categorical_accuracy: 0.9779 - val_loss: 0.2132 - val_sparse_categorical_accuracy: 0.9746\n",
            "10/10 [==============================] - 2s 185ms/step - loss: 0.2003 - sparse_categorical_accuracy: 0.9781 - val_loss: 0.2121 - val_sparse_categorical_accuracy: 0.9735\n",
            "Saving checkpoint\n",
            "313/313 [==============================] - 1s 2ms/step - loss: 0.1968 - sparse_categorical_accuracy: 0.9779\n"
          ],
          "name": "stdout"
        }
      ]
    },
    {
      "cell_type": "code",
      "metadata": {
        "id": "xegT5J8yp0cH",
        "colab": {
          "base_uri": "https://localhost:8080/",
          "height": 590
        },
        "outputId": "cade5201-cab1-47b8-81eb-3536c419caee"
      },
      "source": [
        "# Plot accuracy\n",
        "plt.plot(train_accuracy_wo_pretrain)\n",
        "plt.plot(validation_accuracy_wo_pretrain)\n",
        "plt.title('training accuracy')\n",
        "plt.ylabel('training accuracy')\n",
        "plt.xlabel('epoch')\n",
        "plt.legend(['train', \"validation\"], loc='upper left')\n",
        "plt.show()\n",
        "\n",
        "# Plot loss\n",
        "plt.plot(train_loss_wo_pretrain)\n",
        "plt.plot(validation_loss_wo_pretrain)\n",
        "plt.title('training loss')\n",
        "plt.ylabel('training loss')\n",
        "plt.xlabel('epoch')\n",
        "plt.legend(['train', \"validation\"], loc='upper left')\n",
        "plt.show()\n",
        "\n",
        "print(supervised_loss_wo_pretrain)"
      ],
      "execution_count": 14,
      "outputs": [
        {
          "output_type": "display_data",
          "data": {
            "image/png": "[encoded data removed]",
            "text/plain": [
              "<Figure size 432x288 with 1 Axes>"
            ]
          },
          "metadata": {
            "tags": [],
            "needs_background": "light"
          }
        },
        {
          "output_type": "display_data",
          "data": {
            "image/png": "[encoded data removed]",
            "text/plain": [
              "<Figure size 432x288 with 1 Axes>"
            ]
          },
          "metadata": {
            "tags": [],
            "needs_background": "light"
          }
        },
        {
          "output_type": "stream",
          "text": [
            "[0.19682106375694275, 0.9779000282287598]\n"
          ],
          "name": "stdout"
        }
      ]
    },
    {
      "cell_type": "code",
      "metadata": {
        "colab": {
          "base_uri": "https://localhost:8080/",
          "height": 641
        },
        "id": "L2RxkEwhGUnC",
        "outputId": "6da513b8-fa15-43e9-ea07-40808c1a85f9"
      },
      "source": [
        "# Plot accuracy\n",
        "plt.plot(validation_accuracy_wo_pretrain[:30])\n",
        "plt.plot(validation_accuracy[:30])\n",
        "plt.title('validation accuracy')\n",
        "plt.ylabel('validation accuracy')\n",
        "plt.xlabel('epoch')\n",
        "plt.legend(['without pre-train', \"with pre-train\"], loc='upper left')\n",
        "plt.show()\n",
        "\n",
        "# Plot loss\n",
        "plt.plot(validation_loss_wo_pretrain[:30])\n",
        "plt.plot(validation_loss[:30])\n",
        "plt.title('validation loss')\n",
        "plt.ylabel('validation loss')\n",
        "plt.xlabel('epoch')\n",
        "plt.legend(['without pre-train', \"with pre-train\"], loc='upper left')\n",
        "plt.show()\n",
        "\n",
        "print(\"Test loss with pre-training: \", supervised_loss[0])\n",
        "print(\"Test accuracy with pre-training: \", supervised_loss[1])\n",
        "print(\"Test loss without pre-training: \", supervised_loss_wo_pretrain[0])\n",
        "print(\"Test accuracy without pre-training: \", supervised_loss_wo_pretrain[1])"
      ],
      "execution_count": 18,
      "outputs": [
        {
          "output_type": "display_data",
          "data": {
            "image/png": "[encoded data removed]",
            "text/plain": [
              "<Figure size 432x288 with 1 Axes>"
            ]
          },
          "metadata": {
            "tags": [],
            "needs_background": "light"
          }
        },
        {
          "output_type": "display_data",
          "data": {
            "image/png": "[encoded data removed]",
            "text/plain": [
              "<Figure size 432x288 with 1 Axes>"
            ]
          },
          "metadata": {
            "tags": [],
            "needs_background": "light"
          }
        },
        {
          "output_type": "stream",
          "text": [
            "Test loss with pre-training:  0.1537356674671173\n",
            "Test accuracy with pre-training:  0.9811000227928162\n",
            "Test loss without pre-training:  0.19682106375694275\n",
            "Test accuracy without pre-training:  0.9779000282287598\n"
          ],
          "name": "stdout"
        }
      ]
    }
  ]
}